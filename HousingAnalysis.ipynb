{
 "cells": [
  {
   "cell_type": "code",
   "execution_count": 1,
   "id": "9cf15a13-565c-48f7-a19f-f5812e05c153",
   "metadata": {},
   "outputs": [],
   "source": [
    "import pandas as pd\n",
    "import numpy as np\n",
    "import os\n",
    "import ast\n",
    "import matplotlib.pyplot as plt\n",
    "import requests\n",
    "import json\n",
    "import prettytable\n",
    "path = os.getcwd()"
   ]
  },
  {
   "cell_type": "markdown",
   "id": "bff32342-8ba8-44df-a98e-b7fd12d927b9",
   "metadata": {},
   "source": [
    "# Objective\n",
    "\n",
    "Analyze housing prices and labor trends across the US and when partitioned by individual states. Calculate both year-over-year and cumulative inflation and adjust prices according to cumulative inflation with 2012 as a base year. Calculate the increases in both annual median salaries and median single-family home sale prices when adjusting for inflation to isolate price increases not due to inflation. Find the states with the lowest median housing prices and highest median salaries to create actionable recommendations for determining which states are best for purchasing homes and work.\n",
    "\n",
    "## Data Provenance\n",
    "1. Redfin Housing Data - provides median home sale prices across 30 day monitoring periods\n",
    "2. Bureau of Labor Statistics (BLS) Labor Data - provides wage data by area and occupation\n",
    "3. Bureau of Labor Statistics (BLS) CPI Data - provides CPI data that can be used to calculate inflation\n",
    "\n",
    "## Key Analysis Points\n",
    "1. National: analysis of US Salary and single-family home sales on national level\n",
    "\n",
    "    a. How have housing prices changed over time?\n",
    "    \n",
    "    b. What happens if we adjust for inflation?\n",
    "    \n",
    "    c. How has the quantity of houses sold in the market changed over time?\n",
    "    \n",
    "    d. How has salary changed over time in respect to housing prices?\n",
    "    \n",
    "2. State-level: Analysis of single-familng home sales per state\n",
    "\n",
    "    a. Which states are the most expensive/cheap to buy housing in?\n",
    "    \n",
    "    b. Which states have the lowest housing prices and highest salaries?\n",
    "    \n",
    "    c. Which states are the most affordable to buy a house in assuming the individual also works in that state?\n",
    "    \n",
    "    d. Does it make sense to adjust recent prices for inflation when in consideration of decision-making actionability?"
   ]
  },
  {
   "cell_type": "code",
   "execution_count": 2,
   "id": "ad819815-d598-466b-876e-59c21114e168",
   "metadata": {},
   "outputs": [],
   "source": [
    "# Reading in BLS labor data\n",
    "def read_wage(start_year, end_year):\n",
    "    # Can specify custom years so long as all files exist in bucket\n",
    "    end_str = str(end_year)\n",
    "    labor_bucket = path + '\\\\Desktop\\\\housing_data\\\\wage\\\\'    \n",
    "    df_dict = {}\n",
    "    while start_year <= end_year:\n",
    "        start_str = str(start_year)\n",
    "        base_file = labor_bucket + f'state_M{start_str}_dl.xlsx'\n",
    "        key = f'df_{start_str}'\n",
    "        \n",
    "        # Adding year col, standardizing each col header\n",
    "        df_dict[key] = pd.read_excel(base_file, sheet_name = 0)\n",
    "        df_dict[key].insert(0, 'YEAR', key[-4:])\n",
    "        df_dict[key].columns = [col.upper() for col in df_dict[key].columns]\n",
    "        start_year += 1\n",
    "    \n",
    "    return df_dict\n",
    "\n",
    "# Need a way to map state to the merged df, BLS col headers differ between datasets\n",
    "def get_state(df):\n",
    "    state_to_code = dict(set(zip(df['AREA_TITLE'], df['AREA'])))\n",
    "    code_to_state = dict(set(zip(df['AREA'], df['AREA_TITLE'])))\n",
    "    return state_to_code, code_to_state\n",
    "\n",
    "def merge_dfs(df_dict):\n",
    "    for key in df_dict:\n",
    "        df_dict[key] = df_dict[key][['YEAR', 'AREA', 'OCC_CODE', 'A_MEDIAN']]\n",
    "        # Focus on overall aggregate of occupations       \n",
    "        df_dict[key] = df_dict[key][df_dict[key]['OCC_CODE'] == '00-0000']\n",
    "    # Vstack dfs so long as same cols\n",
    "    df = pd.concat(df_dict.values(), axis = 0)\n",
    "    \n",
    "    return df"
   ]
  },
  {
   "cell_type": "code",
   "execution_count": 3,
   "id": "a64e5070-140c-44c5-a5e2-1a1c8a39cddf",
   "metadata": {},
   "outputs": [
    {
     "data": {
      "text/plain": [
       "0"
      ]
     },
     "execution_count": 3,
     "metadata": {},
     "output_type": "execute_result"
    }
   ],
   "source": [
    "df_dict = read_wage(2012, 2023)\n",
    "state_to_code, code_to_state = get_state(df_dict['df_2023'])\n",
    "wages = merge_dfs(df_dict)\n",
    "wages['STATE'] = wages['AREA'].map(code_to_state)\n",
    "wages['STATE'].isnull().sum()"
   ]
  },
  {
   "cell_type": "code",
   "execution_count": 4,
   "id": "ed111620-8bfa-4179-b00e-4b6365065c5b",
   "metadata": {},
   "outputs": [],
   "source": [
    "state_path = path + '\\\\Desktop\\\\housing_data\\\\state_market_tracker.tsv000'\n",
    "\n",
    "state = pd.read_csv(state_path, sep = '\\t')\n",
    "state = state[state['property_type'] == 'Single Family Residential']"
   ]
  },
  {
   "cell_type": "markdown",
   "id": "ae544df6-4146-4f74-a723-fae75767613d",
   "metadata": {
    "tags": []
   },
   "source": [
    "## Constructing curated dataset\n",
    "\n",
    "1. Year: the year that the listing ended (using end year to preserve recency of timeframe)\n",
    "2. State: State of listing, can be used for aggregations\n",
    "3. Property type: Which property types are increasing faster in value?\n",
    "4. Median Sale Price grouped by year"
   ]
  },
  {
   "cell_type": "code",
   "execution_count": 5,
   "id": "aae90be9-3e88-4cb8-9490-ff454be2f507",
   "metadata": {},
   "outputs": [],
   "source": [
    "# Create year col\n",
    "state['year'] = state['period_end'].str[:4]\n",
    "\n",
    "df = state[['year', 'state', 'state_code', 'property_type', 'median_sale_price', 'homes_sold']]\n",
    "\n",
    "# Create df with median sale per state per year \n",
    "grouped_year_state = df.groupby(['year', 'state', 'state_code']).agg({'median_sale_price': 'median', \n",
    "                                                        'homes_sold': 'sum'}).reset_index()\n",
    "#grouped_year_state['median_sale_price'] = grouped_year_state['median_sale_price'].astype('Int64')\n",
    "grouped_year = df.groupby(['year']).agg({'median_sale_price': 'median', 'homes_sold': 'sum'}).reset_index()\n",
    "grouped_year['median_sale_price'] = grouped_year['median_sale_price'].astype('Int64')"
   ]
  },
  {
   "cell_type": "code",
   "execution_count": 6,
   "id": "f2b70c66-360c-4eea-8301-566e17c9c3f3",
   "metadata": {},
   "outputs": [],
   "source": [
    "# This just a modified copy of the sample code from https://www.bls.gov/developers/api_python.htm#python1 so that it returns df\n",
    "def get_cpi(start, end):\n",
    "    headers = {'Content-type': 'application/json'}\n",
    "    data = json.dumps({\"seriesid\": ['CUUR0000SA0','SUUR0000SA0'],'startyear':start, 'endyear':end})\n",
    "    p = requests.post('https://api.bls.gov/publicAPI/v1/timeseries/data/', data=data, headers=headers)\n",
    "    json_data = json.loads(p.text)\n",
    "    \n",
    "    data_list = []\n",
    "    \n",
    "    for series in json_data['Results']['series']:\n",
    "        seriesId = series['seriesID']\n",
    "        for item in series['data']:\n",
    "            year = item['year']\n",
    "            period = item['period']\n",
    "            value = item['value']\n",
    "            footnotes = \"\"\n",
    "            for footnote in item['footnotes']:\n",
    "                if footnote:\n",
    "                    footnotes += footnote['text'] + ','\n",
    "\n",
    "            if 'M01' <= period <= 'M12':\n",
    "                data_list.append([seriesId, year, period, value, footnotes[0:-1]])\n",
    "\n",
    "    df = pd.DataFrame(data_list, columns=[\"series id\", \"year\", \"period\", \"value\", \"footnotes\"])\n",
    "    \n",
    "    return df"
   ]
  },
  {
   "cell_type": "markdown",
   "id": "a77e8ba5-f37e-4f9a-8c19-4652258e6377",
   "metadata": {},
   "source": [
    "## Calculating Inflation"
   ]
  },
  {
   "cell_type": "code",
   "execution_count": 7,
   "id": "786ff68f-a287-4d32-9de9-4faa289e6db8",
   "metadata": {},
   "outputs": [],
   "source": [
    "cpi_1 = get_cpi(2012, 2020)\n",
    "cpi_2 = get_cpi(2021, 2024)\n",
    "\n",
    "# Note that 2023/2024 cpi data is subject to revisions\n",
    "cpi = pd.concat([cpi_1, cpi_2])\n",
    "cpi_sub = cpi[['year', 'value']]\n",
    "cpi_sub.loc[:, 'value'] = pd.to_numeric(cpi_sub['value'])\n",
    "cpi_grouped = cpi_sub.groupby('year')['value'].mean().reset_index()\n",
    "cpi_grouped['inflation_perc_yoy'] = cpi_grouped['value'].pct_change() * 100\n",
    "\n",
    "# Joining housing data with inflation data\n",
    "grouped_year = grouped_year.merge(cpi_grouped, how = 'left', on = 'year')\n",
    "grouped_year_state = grouped_year_state.merge(cpi_grouped, how = 'left', on = 'year')\n",
    "\n",
    "# Function for getting inflation\n",
    "def get_inflation(current):\n",
    "    base = cpi_grouped['value'].iloc[0]\n",
    "    if current == base:\n",
    "        return np.nan\n",
    "    inflation = round((current - base) / base * 100, 2)\n",
    "    return inflation"
   ]
  },
  {
   "cell_type": "code",
   "execution_count": 8,
   "id": "2312d9dc-7684-456d-a6f8-7f2b6ebbcd76",
   "metadata": {},
   "outputs": [],
   "source": [
    "grouped_year['cumulative_inflation_since_2012'] = grouped_year['value'].map(get_inflation)\n",
    "grouped_year_state['cumulative_inflation_since_2012'] = grouped_year_state['value'].map(get_inflation)"
   ]
  },
  {
   "cell_type": "code",
   "execution_count": 9,
   "id": "c8033ffc-4319-4f10-a015-d0914ce9a387",
   "metadata": {},
   "outputs": [],
   "source": [
    "# Use cumulative inflation to get median sale price adjusted by 2012 base year\n",
    "def get_price_2012(df, input_col, output_col):\n",
    "    df[output_col] = None\n",
    "    for index, row in df.iterrows():\n",
    "        price = row[input_col]\n",
    "        inflation = row['cumulative_inflation_since_2012']\n",
    "        if pd.notna(inflation):\n",
    "            df.at[index, output_col] = int(round(price / (1 + inflation / 100), 0))\n",
    "            \n",
    "    return df"
   ]
  },
  {
   "cell_type": "code",
   "execution_count": 10,
   "id": "9e3cf3e8-aba5-4977-9a28-521f7c5e0dbb",
   "metadata": {},
   "outputs": [],
   "source": [
    "grouped_year = get_price_2012(grouped_year, 'median_sale_price', 'price_2012_adj')\n",
    "grouped_year_state = get_price_2012(grouped_year_state,'median_sale_price', 'price_2012_adj')"
   ]
  },
  {
   "cell_type": "code",
   "execution_count": 11,
   "id": "ff5396e4-148d-46c9-ade8-e45847a579fe",
   "metadata": {},
   "outputs": [],
   "source": [
    "# Joining housing sales + inflation with wage/salary data\n",
    "wages_grouped = wages[['YEAR', 'A_MEDIAN']].groupby('YEAR').median().astype('Int64')\n",
    "\n",
    "grouped_year = grouped_year.merge(wages_grouped, left_on = 'year', right_on = 'YEAR')\n",
    "grouped_year.rename(columns = {'A_MEDIAN': 'Median_Salary'}, inplace = True)\n",
    "\n",
    "# Wage data only goes up to 2023 so analysis can only reliably span 2012 - 2023\n",
    "grouped_year_state = grouped_year_state.merge(wages, how = 'inner', left_on = ['year', 'state'], right_on = ['YEAR', 'STATE'])\n",
    "grouped_year_state.drop(columns = ['OCC_CODE', 'AREA', 'YEAR', 'STATE'])\n",
    "grouped_year_state.rename(columns = {'A_MEDIAN': 'Median_Salary'}, inplace = True)\n",
    "grouped_year_state['median_sale_price'] = grouped_year_state['median_sale_price'].astype('Int64')"
   ]
  },
  {
   "cell_type": "code",
   "execution_count": 12,
   "id": "6fd41379-728d-4dc5-85e8-d17d445bcb12",
   "metadata": {},
   "outputs": [],
   "source": [
    "# Can now adjust wages for 2012 inflation\n",
    "grouped_year = get_price_2012(grouped_year, 'Median_Salary', 'wage_2012_adj')\n",
    "grouped_year_state = get_price_2012(grouped_year_state, 'Median_Salary', 'wage_2012_adj')\n",
    "\n",
    "# Final Cleaning before visualizations\n",
    "def cleaner(df):\n",
    "    df.rename(columns = {'price_2012_adj': 'median_sale_price_adj', 'Median_Salary': 'median_salary', 'wage_2012_adj': 'median_salary_adj'}, inplace = True)\n",
    "    return df\n",
    "\n",
    "grouped_year = cleaner(grouped_year)\n",
    "grouped_year_state = cleaner(grouped_year_state)\n",
    "\n",
    "# Dropping duplicate cols\n",
    "grouped_year_state.drop(columns = ['YEAR', 'STATE'], inplace = True)"
   ]
  },
  {
   "cell_type": "markdown",
   "id": "a9be9299-40ba-4849-adcc-92b3c5c6b7a1",
   "metadata": {},
   "source": [
    "## Streamlit Web App"
   ]
  },
  {
   "cell_type": "markdown",
   "id": "d1d76df6-11b9-486f-8242-b2a36a8603a6",
   "metadata": {},
   "source": [
    "Public URL: https://app-app-housing-gqe7gkq7dya3pgz8uwrbvr.streamlit.app/"
   ]
  }
 ],
 "metadata": {
  "kernelspec": {
   "display_name": "Python 3 (ipykernel)",
   "language": "python",
   "name": "python3"
  },
  "language_info": {
   "codemirror_mode": {
    "name": "ipython",
    "version": 3
   },
   "file_extension": ".py",
   "mimetype": "text/x-python",
   "name": "python",
   "nbconvert_exporter": "python",
   "pygments_lexer": "ipython3",
   "version": "3.9.12"
  }
 },
 "nbformat": 4,
 "nbformat_minor": 5
}
